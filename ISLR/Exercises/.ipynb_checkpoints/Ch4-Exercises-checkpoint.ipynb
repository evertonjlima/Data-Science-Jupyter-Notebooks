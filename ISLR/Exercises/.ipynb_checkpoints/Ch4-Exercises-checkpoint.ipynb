{
 "cells": [
  {
   "cell_type": "markdown",
   "metadata": {},
   "source": [
    "# Introduction to Statistical Learning Exercise Solutions Chapter 4\n",
    "## Table of Contents\n",
    "\n",
    "### Conceptual Exercises\n",
    "- [1](#1)\n",
    "- [2](#2)\n",
    "- [3](#3)\n",
    "- [4](#4)\n",
    "- [5](#5)\n",
    "- [6](#6)\n",
    "- [7](#7)\n",
    "\n",
    "### Applied Exercises\n",
    "\n",
    "\n",
    "## Conceptual Exercises"
   ]
  },
  {
   "cell_type": "markdown",
   "metadata": {},
   "source": [
    "### 1\n",
    "\n",
    "$p(x) = \\frac{e^{\\beta_0+\\beta_1x}}{1+e^{\\beta_0+\\beta_1x}}$ (4.2)\n",
    "  \n",
    "$\\frac{p(x)}{1-p(x)} = e^{\\beta_0+\\beta_1x}$ (4.3)\n",
    "\n",
    "\n",
    "The equations are equivalent since,\n",
    "\n",
    "$1-p(x) = 1-\\frac{e^{\\beta_0+\\beta_1x}}{1+\\beta_0+\\beta_1x} = \\frac{1+e^{\\beta_0+\\beta_1x}-e^{\\beta_0+\\beta_1x}}{1+e^{\\beta_0+\\beta_1x}} = \\frac{1}{1+e^{\\beta_0+\\beta_1x}}$ \n",
    "\n",
    "$\\frac{1}{1-p(x)} = 1+e^{\\beta_0+\\beta_1x}$ (1)\n",
    "\n",
    "and substituting 1 into 4.2 yields 4.3,\n",
    "\n",
    "$\\frac{p(x)}{1-p(x)} = \\frac{e^{\\beta_0+\\beta_1x}}{1+e^{\\beta_0+\\beta_1x}}(1+e^{\\beta_0+\\beta_1x})=e^{\\beta_0+\\beta_1x}$\n"
   ]
  },
  {
   "cell_type": "markdown",
   "metadata": {},
   "source": [
    "### 2\n",
    "\n",
    "$p_k(x) = \\frac{\\pi_k\\frac{1}{\\sqrt{2\\pi\\sigma}}exp(-\\frac{1}{2\\sigma^2_k}(x-\\mu_k)^2) }{\\sum^K_{l=1} \\pi_l\\frac{1}{\\sqrt{2\\pi\\sigma}}exp(-\\frac{1}{2\\sigma^2_k}(x-\\mu_l)^2)}$   (4.12)\n",
    "   \n",
    "$\\sigma_k  = x\\cdot\\frac{\\mu_k}{\\sigma^2} -\\frac{\\mu_k^2}{2\\sigma^2} + log(\\pi_k) $(4.13)\n",
    "\n",
    "\n",
    "$log(p_k(x)) = log(\\frac{\\pi_k\\frac{1}{\\sqrt{2\\pi\\sigma}}exp(-\\frac{1}{2\\sigma^2_k}(x-\\mu_k)^2) }{\\sum^K_{l=1} \\pi_l\\frac{1}{\\sqrt{2\\pi\\sigma}}exp(-\\frac{1}{2\\sigma^2_k}(x-\\mu_l)^2)}) \n",
    "= log(\\pi_k\\frac{1}{\\sqrt{2\\pi\\sigma}}exp(-\\frac{1}{2\\sigma^2_k}(x-\\mu_k)^2) ) - log(\\sum^K_{l=1} \\pi_l\\frac{1}{\\sqrt{2\\pi\\sigma}}exp(-\\frac{1}{2\\sigma^2_k}(x-\\mu_l)^2))$ (Eq. 1)\n",
    "\n",
    "Let $K = log(\\sum^K_{l=1} \\pi_l\\frac{1}{\\sqrt{2\\pi\\sigma}}exp(-\\frac{1}{2\\sigma^2_k}(x-\\mu_l)^2))$ then Eq. 1 becomes $log(p_k(x)) = log(\\pi_k\\frac{1}{\\sqrt{2\\pi\\sigma}}exp(-\\frac{1}{2\\sigma^2_k}(x-\\mu_k)^2) ) - K$\n",
    "\n",
    "Further simplifications can be made,\n",
    " \n",
    "$log(p_k(x)) = log(\\pi_k)+log(\\frac{1}{\\sqrt{2\\pi\\sigma}})+log(exp(-\\frac{1}{2\\sigma^2_k}(x-\\mu_k)^2)) - K \n",
    "= -\\frac{1}{2\\sigma^2}(x-\\mu_k)^2 + log(\\pi_k)+log(\\frac{1}{\\sqrt{2\\pi\\sigma}})-K$\n",
    "\n",
    "$= -\\frac{1}{2\\sigma^2}(x^2-2x\\mu_k+\\mu_k^2) + log(\\pi_k)+log(\\frac{1}{\\sqrt{2\\pi\\sigma}})-K$\n",
    "\n",
    "$= x\\cdot\\frac{\\mu_k}{\\sigma^2}+\\frac{\\mu_k^2}{2\\sigma^2} + log(\\pi_k)-\\frac{x^2}{2\\sigma^2}+log(\\frac{1}{\\sqrt{2\\pi\\sigma}})-K$\n",
    "\n",
    "Where since the Bayes classifier assigns an observation to the class which $p_k(x)$ is maximized, it assignts to class j if $p_j(x) > p_i(x)$ for all $i\\neq j$. \n",
    "\n",
    "$p_j(x) > p_i(x) = log(p_j(x)) > log(p_i(x))$ for all $i\\neq j$\n",
    "\n",
    "\n",
    "$x\\cdot\\frac{\\mu_j}{\\sigma^2}+\\frac{\\mu_j^2}{2\\sigma^2} + log(\\pi_j)-\\frac{x^2}{2\\sigma^2}+log(\\frac{1}{\\sqrt{2\\pi\\sigma}})-K > x\\cdot\\frac{\\mu_i}{\\sigma^2}+\\frac{\\mu_i^2}{2\\sigma^2} + log(\\pi_i)-\\frac{x^2}{2\\sigma^2}+log(\\frac{1}{\\sqrt{2\\pi\\sigma}})-K$\n",
    "\n",
    "$x\\cdot\\frac{\\mu_j}{\\sigma^2}+\\frac{\\mu_j^2}{2\\sigma^2} + log(\\pi_j)> x\\cdot\\frac{\\mu_i}{\\sigma^2}+\\frac{\\mu_i^2}{2\\sigma^2} + log(\\pi_i)$ for all $i\\neq j$ since $\\sigma_1 = \\sigma_2 = ... = \\sigma_n$\n",
    "\n",
    "Thus the Bayes classifier assigns an obsevation to the discriminant funciton which is maximized.\n",
    "\n",
    "$\\sigma_k  = x\\cdot\\frac{\\mu_k}{\\sigma^2} -\\frac{\\mu_k^2}{2\\sigma^2} + log(\\pi_k) $"
   ]
  },
  {
   "cell_type": "code",
   "execution_count": null,
   "metadata": {
    "collapsed": true
   },
   "outputs": [],
   "source": []
  }
 ],
 "metadata": {
  "kernelspec": {
   "display_name": "R",
   "language": "R",
   "name": "ir"
  },
  "language_info": {
   "codemirror_mode": "r",
   "file_extension": ".r",
   "mimetype": "text/x-r-source",
   "name": "R",
   "pygments_lexer": "r",
   "version": "3.2.3"
  }
 },
 "nbformat": 4,
 "nbformat_minor": 0
}
